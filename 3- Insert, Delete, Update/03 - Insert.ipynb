{
    "metadata": {
        "kernelspec": {
            "name": "SQL",
            "display_name": "SQL",
            "language": "sql"
        },
        "language_info": {
            "name": "sql",
            "version": ""
        }
    },
    "nbformat_minor": 2,
    "nbformat": 4,
    "cells": [
        {
            "cell_type": "markdown",
            "source": [
                "# Insert\r\n",
                "To insert data into our created table we use INSERT command,\r\n",
                "Insert command has following parts\r\n",
                "* **INSERT INTO** (keyword)\r\n",
                "* *table_name*\r\n",
                "* list of filed we are going to insert value in inside parentheses\r\n",
                "* **Values** (keyword)\r\n",
                "* the Values inside parentheses\r\n",
                "\r\n",
                "**INSERT INTO** *table_name* \\\r\n",
                "(Field_1, Field_2, …, Field_n) \\\r\n",
                "**Values** \\\r\n",
                "(Value_1, Values_2, …, Value_n)\r\n",
                "\r\n",
                "- We can not to write the field list of and only if we put a value for all the fields defined in table in the same order.\r\n",
                "\r\n",
                ""
            ],
            "metadata": {
                "azdata_cell_guid": "440fa696-f8b9-4658-951e-b432e0fd4c09"
            }
        },
        {
            "cell_type": "code",
            "source": [
                "USE DB1;\r\n",
                "GO"
            ],
            "metadata": {
                "azdata_cell_guid": "0dcefb6b-c65d-4d71-8de1-1d52a28b8244"
            },
            "outputs": [
                {
                    "output_type": "display_data",
                    "data": {
                        "text/html": "Commands completed successfully."
                    },
                    "metadata": {}
                },
                {
                    "output_type": "display_data",
                    "data": {
                        "text/html": "Total execution time: 00:00:00.060"
                    },
                    "metadata": {}
                }
            ],
            "execution_count": 1
        },
        {
            "cell_type": "code",
            "source": [
                "INSERT INTO Departement\r\n",
                "(Did, Dname)\r\n",
                "VALUES\r\n",
                "(1,'HR');\r\n",
                "GO"
            ],
            "metadata": {
                "azdata_cell_guid": "320713f0-3011-4991-87fd-b86b44980feb"
            },
            "outputs": [
                {
                    "output_type": "display_data",
                    "data": {
                        "text/html": "(1 row affected)"
                    },
                    "metadata": {}
                },
                {
                    "output_type": "display_data",
                    "data": {
                        "text/html": "Total execution time: 00:00:00.065"
                    },
                    "metadata": {}
                }
            ],
            "execution_count": 2
        },
        {
            "cell_type": "code",
            "source": [
                "SELECT * FROM Departement;\r\n",
                "GO"
            ],
            "metadata": {
                "azdata_cell_guid": "d150001b-bce8-44fc-8a4c-ee0e2aa625a6"
            },
            "outputs": [
                {
                    "output_type": "display_data",
                    "data": {
                        "text/html": "(1 row affected)"
                    },
                    "metadata": {}
                },
                {
                    "output_type": "display_data",
                    "data": {
                        "text/html": "Total execution time: 00:00:00.098"
                    },
                    "metadata": {}
                },
                {
                    "output_type": "execute_result",
                    "metadata": {},
                    "execution_count": 3,
                    "data": {
                        "application/vnd.dataresource+json": {
                            "schema": {
                                "fields": [
                                    {
                                        "name": "Did"
                                    },
                                    {
                                        "name": "Dname"
                                    }
                                ]
                            },
                            "data": [
                                {
                                    "0": "1",
                                    "1": "HR"
                                }
                            ]
                        },
                        "text/html": "<table><tr><th>Did</th><th>Dname</th></tr><tr><td>1</td><td>HR</td></tr></table>"
                    }
                }
            ],
            "execution_count": 3
        },
        {
            "cell_type": "markdown",
            "source": [
                "Insert into with out mentioning fields"
            ],
            "metadata": {
                "azdata_cell_guid": "415f4225-601e-4099-b34e-3e05659da36a"
            }
        },
        {
            "cell_type": "code",
            "source": [
                "INSERT INTO Departement\r\n",
                "VALUES\r\n",
                "(2,'IT');\r\n",
                "GO\r\n",
                "\r\n",
                "SELECT * FROM Departement;\r\n",
                "GO"
            ],
            "metadata": {
                "azdata_cell_guid": "d38a9cd3-089c-4d5e-83bc-90e84aa63b09"
            },
            "outputs": [
                {
                    "output_type": "display_data",
                    "data": {
                        "text/html": "(1 row affected)"
                    },
                    "metadata": {}
                },
                {
                    "output_type": "display_data",
                    "data": {
                        "text/html": "(2 rows affected)"
                    },
                    "metadata": {}
                },
                {
                    "output_type": "display_data",
                    "data": {
                        "text/html": "Total execution time: 00:00:00.006"
                    },
                    "metadata": {}
                },
                {
                    "output_type": "execute_result",
                    "metadata": {},
                    "execution_count": 7,
                    "data": {
                        "application/vnd.dataresource+json": {
                            "schema": {
                                "fields": [
                                    {
                                        "name": "Did"
                                    },
                                    {
                                        "name": "Dname"
                                    }
                                ]
                            },
                            "data": [
                                {
                                    "0": "1",
                                    "1": "HR"
                                },
                                {
                                    "0": "2",
                                    "1": "IT"
                                }
                            ]
                        },
                        "text/html": "<table><tr><th>Did</th><th>Dname</th></tr><tr><td>1</td><td>HR</td></tr><tr><td>2</td><td>IT</td></tr></table>"
                    }
                }
            ],
            "execution_count": 7
        },
        {
            "cell_type": "markdown",
            "source": [
                "* We can also insert multiple rows in one insert"
            ],
            "metadata": {
                "azdata_cell_guid": "3f0566c2-5d05-41ab-af7f-5c44909884bd"
            }
        },
        {
            "cell_type": "code",
            "source": [
                "INSERT INTO Departement\r\n",
                "VALUES\r\n",
                "(3,'Management'),\r\n",
                "(4,'Accounting'),\r\n",
                "(5,'Security'),\r\n",
                "(6,'Media');\r\n",
                "GO\r\n",
                "\r\n",
                "\r\n",
                "SELECT * FROM Departement;\r\n",
                "GO"
            ],
            "metadata": {
                "azdata_cell_guid": "dbc471b4-cc61-46ed-b27a-a68fe9e2c8a4"
            },
            "outputs": [
                {
                    "output_type": "display_data",
                    "data": {
                        "text/html": "(4 rows affected)"
                    },
                    "metadata": {}
                },
                {
                    "output_type": "display_data",
                    "data": {
                        "text/html": "(6 rows affected)"
                    },
                    "metadata": {}
                },
                {
                    "output_type": "display_data",
                    "data": {
                        "text/html": "Total execution time: 00:00:00.011"
                    },
                    "metadata": {}
                },
                {
                    "output_type": "execute_result",
                    "metadata": {},
                    "execution_count": 8,
                    "data": {
                        "application/vnd.dataresource+json": {
                            "schema": {
                                "fields": [
                                    {
                                        "name": "Did"
                                    },
                                    {
                                        "name": "Dname"
                                    }
                                ]
                            },
                            "data": [
                                {
                                    "0": "1",
                                    "1": "HR"
                                },
                                {
                                    "0": "2",
                                    "1": "IT"
                                },
                                {
                                    "0": "3",
                                    "1": "Management"
                                },
                                {
                                    "0": "4",
                                    "1": "Accounting"
                                },
                                {
                                    "0": "5",
                                    "1": "Security"
                                },
                                {
                                    "0": "6",
                                    "1": "Media"
                                }
                            ]
                        },
                        "text/html": "<table><tr><th>Did</th><th>Dname</th></tr><tr><td>1</td><td>HR</td></tr><tr><td>2</td><td>IT</td></tr><tr><td>3</td><td>Management</td></tr><tr><td>4</td><td>Accounting</td></tr><tr><td>5</td><td>Security</td></tr><tr><td>6</td><td>Media</td></tr></table>"
                    }
                }
            ],
            "execution_count": 8
        },
        {
            "cell_type": "markdown",
            "source": [
                "* When we have field which is defined as identity, we can not assign data for it in insert command \r\n",
                "\r\n",
                "**VehicleType** table has an identity field names **dtty**\r\n",
                "\r\n",
                "You can find the error after command which mentions **IDENTITY_INSERT** is ON or need to be OFF."
            ],
            "metadata": {
                "azdata_cell_guid": "1b65c920-a29d-41d2-873e-ce1776f50a94"
            }
        },
        {
            "cell_type": "code",
            "source": [
                "INSERT INTO VehicleType\r\n",
                "(VTCode, VTName, idtty)\r\n",
                "Values\r\n",
                "(1,'Bus',1);\r\n",
                "GO\r\n",
                "\r\n",
                "INSERT INTO VehicleType\r\n",
                "Values\r\n",
                "(1,'Bus',1);\r\n",
                "GO\r\n",
                "\r\n",
                "SELECT * FROM VEHICLETYPE;\r\n",
                "GO"
            ],
            "metadata": {
                "azdata_cell_guid": "2b5afde1-10a8-4a4f-82dd-58b847f75104"
            },
            "outputs": [
                {
                    "output_type": "error",
                    "evalue": "Msg 544, Level 16, State 1, Line 1\r\nCannot insert explicit value for identity column in table 'VehicleType' when IDENTITY_INSERT is set to OFF.",
                    "ename": "",
                    "traceback": []
                },
                {
                    "output_type": "error",
                    "evalue": "Msg 8101, Level 16, State 1, Line 7\r\nAn explicit value for the identity column in table 'VehicleType' can only be specified when a column list is used and IDENTITY_INSERT is ON.",
                    "ename": "",
                    "traceback": []
                },
                {
                    "output_type": "display_data",
                    "data": {
                        "text/html": "(0 rows affected)"
                    },
                    "metadata": {}
                },
                {
                    "output_type": "display_data",
                    "data": {
                        "text/html": "Total execution time: 00:00:00.013"
                    },
                    "metadata": {}
                },
                {
                    "output_type": "execute_result",
                    "metadata": {},
                    "execution_count": 12,
                    "data": {
                        "application/vnd.dataresource+json": {
                            "schema": {
                                "fields": [
                                    {
                                        "name": "VTCode"
                                    },
                                    {
                                        "name": "VTName"
                                    },
                                    {
                                        "name": "idtty"
                                    }
                                ]
                            },
                            "data": []
                        },
                        "text/html": "<table><tr><th>VTCode</th><th>VTName</th><th>idtty</th></tr></table>"
                    }
                }
            ],
            "execution_count": 12
        },
        {
            "cell_type": "markdown",
            "source": [
                "In this case we can just not mention field names in the list and put the values in order ignoring the *identity* or ignore the field name and the value of it. "
            ],
            "metadata": {
                "azdata_cell_guid": "5d1ce3ee-719b-4476-8e0c-da2dda3a3f5b"
            }
        },
        {
            "cell_type": "code",
            "source": [
                "INSERT INTO VehicleType\r\n",
                "Values\r\n",
                "(1,'Bus');\r\n",
                "GO\r\n",
                "\r\n",
                "INSERT INTO VehicleType\r\n",
                "(VTCode, VTName)\r\n",
                "Values\r\n",
                "(2,'Taxi');\r\n",
                "GO\r\n",
                "\r\n",
                "\r\n",
                "SELECT * FROM VEHICLETYPE;\r\n",
                "GO"
            ],
            "metadata": {
                "azdata_cell_guid": "bba94c1f-dac6-48f2-919e-61e9501231a1",
                "tags": []
            },
            "outputs": [
                {
                    "output_type": "display_data",
                    "data": {
                        "text/html": "(1 row affected)"
                    },
                    "metadata": {}
                },
                {
                    "output_type": "display_data",
                    "data": {
                        "text/html": "(1 row affected)"
                    },
                    "metadata": {}
                },
                {
                    "output_type": "display_data",
                    "data": {
                        "text/html": "(2 rows affected)"
                    },
                    "metadata": {}
                },
                {
                    "output_type": "display_data",
                    "data": {
                        "text/html": "Total execution time: 00:00:00.097"
                    },
                    "metadata": {}
                },
                {
                    "output_type": "execute_result",
                    "metadata": {},
                    "execution_count": 15,
                    "data": {
                        "application/vnd.dataresource+json": {
                            "schema": {
                                "fields": [
                                    {
                                        "name": "VTCode"
                                    },
                                    {
                                        "name": "VTName"
                                    },
                                    {
                                        "name": "idtty"
                                    }
                                ]
                            },
                            "data": [
                                {
                                    "0": "1",
                                    "1": "Bus",
                                    "2": "4"
                                },
                                {
                                    "0": "2",
                                    "1": "Taxi",
                                    "2": "5"
                                }
                            ]
                        },
                        "text/html": "<table><tr><th>VTCode</th><th>VTName</th><th>idtty</th></tr><tr><td>1</td><td>Bus</td><td>4</td></tr><tr><td>2</td><td>Taxi</td><td>5</td></tr></table>"
                    }
                }
            ],
            "execution_count": 15
        },
        {
            "cell_type": "markdown",
            "source": [
                "* As you see, the identity value started from 4, but it should start from 1. The Reason is I have inserted three records and delete them before the command you see, if you delete a record or even all the records, identity does not reset.\r\n",
                "* We can Reseed the Identity by **DBCC CHECKIDENT** (*table_name* | *field_name* , reseed , *seed_value*)\r\n",
                "\r\n",
                "https://docs.microsoft.com/en-us/sql/t-sql/database-console-commands/dbcc-checkident-transact-sql?view=sql-server-ver15"
            ],
            "metadata": {
                "azdata_cell_guid": "cdc535d8-0cac-4d3a-a4ea-fe56307e6512"
            }
        },
        {
            "cell_type": "markdown",
            "source": [
                "# Insert a Query\r\n",
                "\r\n",
                "What insert code does is to insert the values into table, these values could be\r\n",
                "* array of values (just like before)\r\n",
                "* result of a query \r\n",
                "\r\n",
                "In this example we create a empty table named Departement2 and we can just insert all data from departement into departement in one comment.\r\n",
                "The result of **Select** is going to insert into table, \r\n",
                "* result of the select should be same fields in appropriate order of insert part "
            ],
            "metadata": {
                "azdata_cell_guid": "5a684af4-0ed6-4f33-8475-6dce1ef79850"
            }
        },
        {
            "cell_type": "code",
            "source": [
                "Select * From departement2;\r\n",
                "GO\r\n",
                "\r\n",
                "INSERT INTO departement2\r\n",
                "SELECT * FROM departement;\r\n",
                "GO\r\n",
                "\r\n",
                "Select * From departement2;\r\n",
                "GO"
            ],
            "metadata": {
                "azdata_cell_guid": "2df71374-11bc-4cac-880a-aa12a976bb8a"
            },
            "outputs": [
                {
                    "output_type": "display_data",
                    "data": {
                        "text/html": "(0 rows affected)"
                    },
                    "metadata": {}
                },
                {
                    "output_type": "execute_result",
                    "metadata": {},
                    "execution_count": 17,
                    "data": {
                        "application/vnd.dataresource+json": {
                            "schema": {
                                "fields": [
                                    {
                                        "name": "Did"
                                    },
                                    {
                                        "name": "Dname"
                                    }
                                ]
                            },
                            "data": []
                        },
                        "text/html": "<table><tr><th>Did</th><th>Dname</th></tr></table>"
                    }
                },
                {
                    "output_type": "display_data",
                    "data": {
                        "text/html": "(6 rows affected)"
                    },
                    "metadata": {}
                },
                {
                    "output_type": "display_data",
                    "data": {
                        "text/html": "(6 rows affected)"
                    },
                    "metadata": {}
                },
                {
                    "output_type": "display_data",
                    "data": {
                        "text/html": "Total execution time: 00:00:00.181"
                    },
                    "metadata": {}
                },
                {
                    "output_type": "execute_result",
                    "metadata": {},
                    "execution_count": 17,
                    "data": {
                        "application/vnd.dataresource+json": {
                            "schema": {
                                "fields": [
                                    {
                                        "name": "Did"
                                    },
                                    {
                                        "name": "Dname"
                                    }
                                ]
                            },
                            "data": [
                                {
                                    "0": "1",
                                    "1": "HR"
                                },
                                {
                                    "0": "2",
                                    "1": "IT"
                                },
                                {
                                    "0": "3",
                                    "1": "Management"
                                },
                                {
                                    "0": "4",
                                    "1": "Accounting"
                                },
                                {
                                    "0": "5",
                                    "1": "Security"
                                },
                                {
                                    "0": "6",
                                    "1": "Media"
                                }
                            ]
                        },
                        "text/html": "<table><tr><th>Did</th><th>Dname</th></tr><tr><td>1</td><td>HR</td></tr><tr><td>2</td><td>IT</td></tr><tr><td>3</td><td>Management</td></tr><tr><td>4</td><td>Accounting</td></tr><tr><td>5</td><td>Security</td></tr><tr><td>6</td><td>Media</td></tr></table>"
                    }
                }
            ],
            "execution_count": 17
        }
    ]
}