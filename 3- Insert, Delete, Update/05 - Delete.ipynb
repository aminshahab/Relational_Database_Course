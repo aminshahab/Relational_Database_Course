{
    "metadata": {
        "kernelspec": {
            "name": "SQL",
            "display_name": "SQL",
            "language": "sql"
        },
        "language_info": {
            "name": "sql",
            "version": ""
        }
    },
    "nbformat_minor": 2,
    "nbformat": 4,
    "cells": [
        {
            "cell_type": "markdown",
            "source": [
                "# Delete\r\n",
                "\r\n",
                "When we need to delete record(s) of data we use **Delete** Command, witch has following parts\r\n",
                "* **DELETE** (keyword)\r\n",
                "* **FROM** (Keyword)\r\n",
                "* *table_name*\r\n",
                "* **WHERE** (keyword) Condition\r\n",
                "\r\n",
                "All the rows that satisfiy the condition will be deleted, if we do not have condition (= condition true) all the rows will be deleted.\r\n",
                "\r\n",
                "## Important\r\n",
                "It is very important to pay attention that **delete**\r\n",
                "* Does NOT delete table\r\n",
                "* Does NOT delete value of cell\r\n",
                "* Does NOT delete column\r\n",
                "\r\n",
                "Delete command \r\n",
                "* Delete record(s) = all the field in one or multiple rows\r\n",
                "\r\n",
                "then we dont mention *field* in **delete** command.\r\n",
                "\r\n",
                ""
            ],
            "metadata": {
                "azdata_cell_guid": "23f105ca-2d6e-4b80-a7c4-a2529c01c910"
            }
        },
        {
            "cell_type": "code",
            "source": [
                "SELECT * FROM Departement2;\r\n",
                "GO"
            ],
            "metadata": {
                "azdata_cell_guid": "9567fb30-b2d2-41a1-a198-97e41dc360dd"
            },
            "outputs": [
                {
                    "output_type": "display_data",
                    "data": {
                        "text/html": "(6 rows affected)"
                    },
                    "metadata": {}
                },
                {
                    "output_type": "display_data",
                    "data": {
                        "text/html": "Total execution time: 00:00:00.003"
                    },
                    "metadata": {}
                },
                {
                    "output_type": "execute_result",
                    "metadata": {},
                    "execution_count": 1,
                    "data": {
                        "application/vnd.dataresource+json": {
                            "schema": {
                                "fields": [
                                    {
                                        "name": "Did"
                                    },
                                    {
                                        "name": "Dname"
                                    }
                                ]
                            },
                            "data": [
                                {
                                    "0": "1",
                                    "1": "(1) HR"
                                },
                                {
                                    "0": "2",
                                    "1": "(2) IT"
                                },
                                {
                                    "0": "3",
                                    "1": "(3) Management"
                                },
                                {
                                    "0": "4",
                                    "1": "(4) Accounting"
                                },
                                {
                                    "0": "5",
                                    "1": "(5) Security"
                                },
                                {
                                    "0": "6",
                                    "1": "(6) Media"
                                }
                            ]
                        },
                        "text/html": "<table><tr><th>Did</th><th>Dname</th></tr><tr><td>1</td><td>(1) HR</td></tr><tr><td>2</td><td>(2) IT</td></tr><tr><td>3</td><td>(3) Management</td></tr><tr><td>4</td><td>(4) Accounting</td></tr><tr><td>5</td><td>(5) Security</td></tr><tr><td>6</td><td>(6) Media</td></tr></table>"
                    }
                }
            ],
            "execution_count": 1
        },
        {
            "cell_type": "markdown",
            "source": [
                "Delete Departmenet with code 5"
            ],
            "metadata": {
                "azdata_cell_guid": "f7af6cea-ea7c-4818-ab78-3ffb1070252a"
            }
        },
        {
            "cell_type": "code",
            "source": [
                "DELETE FROM Departement2\r\n",
                "Where Did = 5;\r\n",
                "GO\r\n",
                "\r\n",
                "SELECT * FROM Departement2;\r\n",
                "GO"
            ],
            "metadata": {
                "azdata_cell_guid": "87514f37-b3db-4b3f-a3fa-874af00fbe02"
            },
            "outputs": [
                {
                    "output_type": "display_data",
                    "data": {
                        "text/html": "(1 row affected)"
                    },
                    "metadata": {}
                },
                {
                    "output_type": "display_data",
                    "data": {
                        "text/html": "(5 rows affected)"
                    },
                    "metadata": {}
                },
                {
                    "output_type": "display_data",
                    "data": {
                        "text/html": "Total execution time: 00:00:00.062"
                    },
                    "metadata": {}
                },
                {
                    "output_type": "execute_result",
                    "metadata": {},
                    "execution_count": 2,
                    "data": {
                        "application/vnd.dataresource+json": {
                            "schema": {
                                "fields": [
                                    {
                                        "name": "Did"
                                    },
                                    {
                                        "name": "Dname"
                                    }
                                ]
                            },
                            "data": [
                                {
                                    "0": "1",
                                    "1": "(1) HR"
                                },
                                {
                                    "0": "2",
                                    "1": "(2) IT"
                                },
                                {
                                    "0": "3",
                                    "1": "(3) Management"
                                },
                                {
                                    "0": "4",
                                    "1": "(4) Accounting"
                                },
                                {
                                    "0": "6",
                                    "1": "(6) Media"
                                }
                            ]
                        },
                        "text/html": "<table><tr><th>Did</th><th>Dname</th></tr><tr><td>1</td><td>(1) HR</td></tr><tr><td>2</td><td>(2) IT</td></tr><tr><td>3</td><td>(3) Management</td></tr><tr><td>4</td><td>(4) Accounting</td></tr><tr><td>6</td><td>(6) Media</td></tr></table>"
                    }
                }
            ],
            "execution_count": 2
        },
        {
            "cell_type": "markdown",
            "source": [
                "Delete all the repatment when the Departement name has more than 10 character and is not accounting"
            ],
            "metadata": {
                "azdata_cell_guid": "d4c24356-fd43-4fdb-99da-95a931b0fb3b"
            }
        },
        {
            "cell_type": "code",
            "source": [
                "DELETE FROM Departement2\r\n",
                "Where Did <> 5\r\n",
                "AND LEN(Dname) > 10;\r\n",
                "GO\r\n",
                "\r\n",
                "SELECT * FROM Departement2;\r\n",
                "GO"
            ],
            "metadata": {
                "azdata_cell_guid": "63289f5e-d441-4e50-87e9-8a9dd8cfbf72"
            },
            "outputs": [
                {
                    "output_type": "display_data",
                    "data": {
                        "text/html": "(2 rows affected)"
                    },
                    "metadata": {}
                },
                {
                    "output_type": "display_data",
                    "data": {
                        "text/html": "(3 rows affected)"
                    },
                    "metadata": {}
                },
                {
                    "output_type": "display_data",
                    "data": {
                        "text/html": "Total execution time: 00:00:00.038"
                    },
                    "metadata": {}
                },
                {
                    "output_type": "execute_result",
                    "metadata": {},
                    "execution_count": 3,
                    "data": {
                        "application/vnd.dataresource+json": {
                            "schema": {
                                "fields": [
                                    {
                                        "name": "Did"
                                    },
                                    {
                                        "name": "Dname"
                                    }
                                ]
                            },
                            "data": [
                                {
                                    "0": "1",
                                    "1": "(1) HR"
                                },
                                {
                                    "0": "2",
                                    "1": "(2) IT"
                                },
                                {
                                    "0": "6",
                                    "1": "(6) Media"
                                }
                            ]
                        },
                        "text/html": "<table><tr><th>Did</th><th>Dname</th></tr><tr><td>1</td><td>(1) HR</td></tr><tr><td>2</td><td>(2) IT</td></tr><tr><td>6</td><td>(6) Media</td></tr></table>"
                    }
                }
            ],
            "execution_count": 3
        },
        {
            "cell_type": "markdown",
            "source": [
                "Delete all the rows"
            ],
            "metadata": {
                "azdata_cell_guid": "797d3f70-3bb5-49d4-93e1-82a991aeb87f"
            }
        },
        {
            "cell_type": "code",
            "source": [
                "DELETE FROM Departement2;\r\n",
                "GO\r\n",
                "\r\n",
                "SELECT * FROM Departement2;\r\n",
                "GO"
            ],
            "metadata": {
                "azdata_cell_guid": "4d6af7a8-4590-4e70-9c55-793506634a84"
            },
            "outputs": [
                {
                    "output_type": "display_data",
                    "data": {
                        "text/html": "(3 rows affected)"
                    },
                    "metadata": {}
                },
                {
                    "output_type": "display_data",
                    "data": {
                        "text/html": "(0 rows affected)"
                    },
                    "metadata": {}
                },
                {
                    "output_type": "display_data",
                    "data": {
                        "text/html": "Total execution time: 00:00:00.005"
                    },
                    "metadata": {}
                },
                {
                    "output_type": "execute_result",
                    "metadata": {},
                    "execution_count": 4,
                    "data": {
                        "application/vnd.dataresource+json": {
                            "schema": {
                                "fields": [
                                    {
                                        "name": "Did"
                                    },
                                    {
                                        "name": "Dname"
                                    }
                                ]
                            },
                            "data": []
                        },
                        "text/html": "<table><tr><th>Did</th><th>Dname</th></tr></table>"
                    }
                }
            ],
            "execution_count": 4
        },
        {
            "cell_type": "markdown",
            "source": [
                "## Important\r\n",
                "\r\n",
                "When we use delete command, SQL Server will check every record, if condition is true, record will be deleted. it is a time consumer operation and if we have huge amount of data in out table, the *time out* error will raise. \r\n",
                "If we want just delete all the record in table we can use command **TRUNCATE TABLE** \r\n",
                "\r\n",
                "I will reinsert all the record in table Departement2 to check truncate command"
            ],
            "metadata": {
                "azdata_cell_guid": "b6c220b9-668c-4c9e-aeca-9288fcc90962"
            }
        },
        {
            "cell_type": "code",
            "source": [
                "INSERT INTO Departement2\r\n",
                "SELECT * FROM Departement;\r\n",
                "GO\r\n",
                "\r\n",
                "SELECT * FROM Departement2;\r\n",
                "GO"
            ],
            "metadata": {
                "azdata_cell_guid": "b54acbdc-00ab-4ef6-8216-b57308ae9e8b"
            },
            "outputs": [
                {
                    "output_type": "display_data",
                    "data": {
                        "text/html": "(6 rows affected)"
                    },
                    "metadata": {}
                },
                {
                    "output_type": "display_data",
                    "data": {
                        "text/html": "(6 rows affected)"
                    },
                    "metadata": {}
                },
                {
                    "output_type": "display_data",
                    "data": {
                        "text/html": "Total execution time: 00:00:00.023"
                    },
                    "metadata": {}
                },
                {
                    "output_type": "execute_result",
                    "metadata": {},
                    "execution_count": 5,
                    "data": {
                        "application/vnd.dataresource+json": {
                            "schema": {
                                "fields": [
                                    {
                                        "name": "Did"
                                    },
                                    {
                                        "name": "Dname"
                                    }
                                ]
                            },
                            "data": [
                                {
                                    "0": "1",
                                    "1": "HR"
                                },
                                {
                                    "0": "2",
                                    "1": "IT"
                                },
                                {
                                    "0": "3",
                                    "1": "Management"
                                },
                                {
                                    "0": "4",
                                    "1": "Accounting"
                                },
                                {
                                    "0": "5",
                                    "1": "Security"
                                },
                                {
                                    "0": "6",
                                    "1": "Media and Web"
                                }
                            ]
                        },
                        "text/html": "<table><tr><th>Did</th><th>Dname</th></tr><tr><td>1</td><td>HR</td></tr><tr><td>2</td><td>IT</td></tr><tr><td>3</td><td>Management</td></tr><tr><td>4</td><td>Accounting</td></tr><tr><td>5</td><td>Security</td></tr><tr><td>6</td><td>Media and Web</td></tr></table>"
                    }
                }
            ],
            "execution_count": 5
        },
        {
            "cell_type": "code",
            "source": [
                "TRUNCATE TABLE Departement2;\r\n",
                "GO\r\n",
                "\r\n",
                "SELECT * FROM Departement2;\r\n",
                "GO"
            ],
            "metadata": {
                "azdata_cell_guid": "47a1a04c-6f84-47fb-93cf-a37a1974b9fa"
            },
            "outputs": [
                {
                    "output_type": "display_data",
                    "data": {
                        "text/html": "Commands completed successfully."
                    },
                    "metadata": {}
                },
                {
                    "output_type": "display_data",
                    "data": {
                        "text/html": "(0 rows affected)"
                    },
                    "metadata": {}
                },
                {
                    "output_type": "display_data",
                    "data": {
                        "text/html": "Total execution time: 00:00:00.202"
                    },
                    "metadata": {}
                },
                {
                    "output_type": "execute_result",
                    "metadata": {},
                    "execution_count": 6,
                    "data": {
                        "application/vnd.dataresource+json": {
                            "schema": {
                                "fields": [
                                    {
                                        "name": "Did"
                                    },
                                    {
                                        "name": "Dname"
                                    }
                                ]
                            },
                            "data": []
                        },
                        "text/html": "<table><tr><th>Did</th><th>Dname</th></tr></table>"
                    }
                }
            ],
            "execution_count": 6
        }
    ]
}