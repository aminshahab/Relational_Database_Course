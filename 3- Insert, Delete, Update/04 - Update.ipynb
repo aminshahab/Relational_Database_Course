{
    "metadata": {
        "kernelspec": {
            "name": "SQL",
            "display_name": "SQL",
            "language": "sql"
        },
        "language_info": {
            "name": "sql",
            "version": ""
        }
    },
    "nbformat_minor": 2,
    "nbformat": 4,
    "cells": [
        {
            "cell_type": "markdown",
            "source": [
                "# Update\r\n",
                "\r\n",
                "To modify value(s) already inserted in table we can use update command witch has following parts\r\n",
                "* **Update** (Keyword)\r\n",
                "* *table_name*\r\n",
                "* **Set** (Keyword)\r\n",
                "* Fields = values\r\n",
                "* **Where** (keyword) Condition\r\n",
                "\r\n",
                "This update will effect all the rows that satisfiy the condition, if we do not have condition (= condition true) the update will effect all the rows.\r\n",
                "\r\n",
                "* We can put *function* or *formul* instead of the value like\r\n",
                "    * *field1 = GETDATE()*\r\n",
                "    * *field1 = Val1 + 2*\r\n",
                "    * *field1 = 2 * (Val1 + Val2)*\r\n",
                "    * *...*\r\n",
                ""
            ],
            "metadata": {
                "azdata_cell_guid": "5af78cee-5df3-4590-bca5-46bae5429afd"
            }
        },
        {
            "cell_type": "code",
            "source": [
                "SELECT * FROM Departement;\r\n",
                "GO"
            ],
            "metadata": {
                "azdata_cell_guid": "97d9bc13-05ab-4254-9400-a083fa7fba10"
            },
            "outputs": [
                {
                    "output_type": "display_data",
                    "data": {
                        "text/html": "(6 rows affected)"
                    },
                    "metadata": {}
                },
                {
                    "output_type": "display_data",
                    "data": {
                        "text/html": "Total execution time: 00:00:00.052"
                    },
                    "metadata": {}
                },
                {
                    "output_type": "execute_result",
                    "metadata": {},
                    "execution_count": 1,
                    "data": {
                        "application/vnd.dataresource+json": {
                            "schema": {
                                "fields": [
                                    {
                                        "name": "Did"
                                    },
                                    {
                                        "name": "Dname"
                                    }
                                ]
                            },
                            "data": [
                                {
                                    "0": "1",
                                    "1": "HR"
                                },
                                {
                                    "0": "2",
                                    "1": "IT"
                                },
                                {
                                    "0": "3",
                                    "1": "Management"
                                },
                                {
                                    "0": "4",
                                    "1": "Accounting"
                                },
                                {
                                    "0": "5",
                                    "1": "Security"
                                },
                                {
                                    "0": "6",
                                    "1": "Media"
                                }
                            ]
                        },
                        "text/html": "<table><tr><th>Did</th><th>Dname</th></tr><tr><td>1</td><td>HR</td></tr><tr><td>2</td><td>IT</td></tr><tr><td>3</td><td>Management</td></tr><tr><td>4</td><td>Accounting</td></tr><tr><td>5</td><td>Security</td></tr><tr><td>6</td><td>Media</td></tr></table>"
                    }
                }
            ],
            "execution_count": 1
        },
        {
            "cell_type": "markdown",
            "source": [
                "Change name of departement of *Media* to *Media and Web*, that means change value of *Dname* to **Media and Web** when *Did* is equel to **6**"
            ],
            "metadata": {
                "azdata_cell_guid": "23dc8da9-fe75-4dc2-9210-9e31ed737c31"
            }
        },
        {
            "cell_type": "code",
            "source": [
                "UPDATE Departement\r\n",
                "SET Dname = 'Media and Web'\r\n",
                "WHERE DId = 6;\r\n",
                "GO\r\n",
                "\r\n",
                "SELECT * FROM Departement;\r\n",
                "GO"
            ],
            "metadata": {
                "azdata_cell_guid": "8b3888b2-8226-4af0-b70b-fe155d03bb4c"
            },
            "outputs": [
                {
                    "output_type": "display_data",
                    "data": {
                        "text/html": "(1 row affected)"
                    },
                    "metadata": {}
                },
                {
                    "output_type": "display_data",
                    "data": {
                        "text/html": "(6 rows affected)"
                    },
                    "metadata": {}
                },
                {
                    "output_type": "display_data",
                    "data": {
                        "text/html": "Total execution time: 00:00:00.025"
                    },
                    "metadata": {}
                },
                {
                    "output_type": "execute_result",
                    "metadata": {},
                    "execution_count": 3,
                    "data": {
                        "application/vnd.dataresource+json": {
                            "schema": {
                                "fields": [
                                    {
                                        "name": "Did"
                                    },
                                    {
                                        "name": "Dname"
                                    }
                                ]
                            },
                            "data": [
                                {
                                    "0": "1",
                                    "1": "HR"
                                },
                                {
                                    "0": "2",
                                    "1": "IT"
                                },
                                {
                                    "0": "3",
                                    "1": "Management"
                                },
                                {
                                    "0": "4",
                                    "1": "Accounting"
                                },
                                {
                                    "0": "5",
                                    "1": "Security"
                                },
                                {
                                    "0": "6",
                                    "1": "Media and Web"
                                }
                            ]
                        },
                        "text/html": "<table><tr><th>Did</th><th>Dname</th></tr><tr><td>1</td><td>HR</td></tr><tr><td>2</td><td>IT</td></tr><tr><td>3</td><td>Management</td></tr><tr><td>4</td><td>Accounting</td></tr><tr><td>5</td><td>Security</td></tr><tr><td>6</td><td>Media and Web</td></tr></table>"
                    }
                }
            ],
            "execution_count": 3
        },
        {
            "cell_type": "markdown",
            "source": [
                "In Table Departement2, change departement name like => (Did) DName\r\n",
                "\r\n",
                "* we use *CAST* to convert data type of field, we will discouse about convert more in convert section."
            ],
            "metadata": {
                "azdata_cell_guid": "496d7211-8b4a-4a25-9460-a04726c5d4dd"
            }
        },
        {
            "cell_type": "code",
            "source": [
                "SELECT * FROM Departement2;\r\n",
                "GO\r\n",
                "\r\n",
                "UPDATE Departement2\r\n",
                "SET Dname = '(' + CAST(Did as varchar) + ') ' + Dname\r\n",
                "\r\n",
                "SELECT * FROM Departement2;\r\n",
                "GO"
            ],
            "metadata": {
                "azdata_cell_guid": "ae3b1cd8-6f04-4816-9bdc-64852ded769a"
            },
            "outputs": [
                {
                    "output_type": "display_data",
                    "data": {
                        "text/html": "(6 rows affected)"
                    },
                    "metadata": {}
                },
                {
                    "output_type": "execute_result",
                    "metadata": {},
                    "execution_count": 5,
                    "data": {
                        "application/vnd.dataresource+json": {
                            "schema": {
                                "fields": [
                                    {
                                        "name": "Did"
                                    },
                                    {
                                        "name": "Dname"
                                    }
                                ]
                            },
                            "data": [
                                {
                                    "0": "1",
                                    "1": "HR"
                                },
                                {
                                    "0": "2",
                                    "1": "IT"
                                },
                                {
                                    "0": "3",
                                    "1": "Management"
                                },
                                {
                                    "0": "4",
                                    "1": "Accounting"
                                },
                                {
                                    "0": "5",
                                    "1": "Security"
                                },
                                {
                                    "0": "6",
                                    "1": "Media"
                                }
                            ]
                        },
                        "text/html": "<table><tr><th>Did</th><th>Dname</th></tr><tr><td>1</td><td>HR</td></tr><tr><td>2</td><td>IT</td></tr><tr><td>3</td><td>Management</td></tr><tr><td>4</td><td>Accounting</td></tr><tr><td>5</td><td>Security</td></tr><tr><td>6</td><td>Media</td></tr></table>"
                    }
                },
                {
                    "output_type": "display_data",
                    "data": {
                        "text/html": "(6 rows affected)"
                    },
                    "metadata": {}
                },
                {
                    "output_type": "display_data",
                    "data": {
                        "text/html": "(6 rows affected)"
                    },
                    "metadata": {}
                },
                {
                    "output_type": "display_data",
                    "data": {
                        "text/html": "Total execution time: 00:00:00.038"
                    },
                    "metadata": {}
                },
                {
                    "output_type": "execute_result",
                    "metadata": {},
                    "execution_count": 5,
                    "data": {
                        "application/vnd.dataresource+json": {
                            "schema": {
                                "fields": [
                                    {
                                        "name": "Did"
                                    },
                                    {
                                        "name": "Dname"
                                    }
                                ]
                            },
                            "data": [
                                {
                                    "0": "1",
                                    "1": "(1) HR"
                                },
                                {
                                    "0": "2",
                                    "1": "(2) IT"
                                },
                                {
                                    "0": "3",
                                    "1": "(3) Management"
                                },
                                {
                                    "0": "4",
                                    "1": "(4) Accounting"
                                },
                                {
                                    "0": "5",
                                    "1": "(5) Security"
                                },
                                {
                                    "0": "6",
                                    "1": "(6) Media"
                                }
                            ]
                        },
                        "text/html": "<table><tr><th>Did</th><th>Dname</th></tr><tr><td>1</td><td>(1) HR</td></tr><tr><td>2</td><td>(2) IT</td></tr><tr><td>3</td><td>(3) Management</td></tr><tr><td>4</td><td>(4) Accounting</td></tr><tr><td>5</td><td>(5) Security</td></tr><tr><td>6</td><td>(6) Media</td></tr></table>"
                    }
                }
            ],
            "execution_count": 5
        }
    ]
}