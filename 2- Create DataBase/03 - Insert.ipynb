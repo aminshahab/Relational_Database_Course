{
    "metadata": {
        "kernelspec": {
            "name": "SQL",
            "display_name": "SQL",
            "language": "sql"
        },
        "language_info": {
            "name": "sql",
            "version": ""
        }
    },
    "nbformat_minor": 2,
    "nbformat": 4,
    "cells": [
        {
            "cell_type": "markdown",
            "source": [
                "## Create Database already created\r\n",
                "will raise an error. in fact creating any object which already exist will raise the error.\r\n",
                "To avoid raising this error we can \r\n",
                "- Check if the object exist do or do not create / alter the object.\r\n",
                "- Another method is drop object and create it again **which is not a good Idea**, when you drop a object you can **loose data**. \r\n",
                ""
            ],
            "metadata": {
                "azdata_cell_guid": "8c67bc62-4aa7-4ee6-b892-af83c9026ed0"
            }
        },
        {
            "cell_type": "code",
            "source": [
                "use DB1;\n",
                "GO\n",
                "select * from sysobjects \n",
                "--where xtype='U'\n",
                "--where name='cars' and xtype='U'"
            ],
            "metadata": {
                "azdata_cell_guid": "1b6f9305-23a1-4ed2-b09e-6b46e25363b0"
            },
            "outputs": [],
            "execution_count": 0
        }
    ]
}