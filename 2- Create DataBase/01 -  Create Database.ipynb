{
    "metadata": {
        "kernelspec": {
            "name": "SQL",
            "display_name": "SQL",
            "language": "sql"
        },
        "language_info": {
            "name": "sql",
            "version": ""
        }
    },
    "nbformat_minor": 2,
    "nbformat": 4,
    "cells": [
        {
            "cell_type": "markdown",
            "source": [
                "# DataBase\r\n",
                "## Create Database  \r\n",
                "Requires CREATE DATABASE permission in the master database, or requires CREATE ANY DATABASE, or ALTER ANY DATABASE permission.\r\n",
                "\r\n",
                "https://docs.microsoft.com/en-us/sql/relational-databases/databases/create-a-database?view=sql-server-ver15"
            ],
            "metadata": {
                "azdata_cell_guid": "a17b3a89-b44a-4562-bb58-39deaa49411f"
            }
        },
        {
            "cell_type": "code",
            "source": [
                "Use Master;\r\n",
                "go"
            ],
            "metadata": {
                "azdata_cell_guid": "bc853515-c514-4fcd-b4e3-029758c49022"
            },
            "outputs": [
                {
                    "output_type": "display_data",
                    "data": {
                        "text/html": "Commands completed successfully."
                    },
                    "metadata": {}
                },
                {
                    "output_type": "display_data",
                    "data": {
                        "text/html": "Total execution time: 00:00:00"
                    },
                    "metadata": {}
                }
            ],
            "execution_count": 3
        },
        {
            "cell_type": "markdown",
            "source": [
                "We can mention all the setting (much more than below on creating a database)"
            ],
            "metadata": {
                "azdata_cell_guid": "af486078-3b81-4e7a-8f79-72ef583cf97d"
            }
        },
        {
            "cell_type": "code",
            "source": [
                "CREATE DATABASE DB1  \r\n",
                "ON   \r\n",
                "( NAME = DB1_dat,  \r\n",
                "    FILENAME = 'C:\\Program Files\\Microsoft SQL Server\\MSSQL14.MSSQLSERVER\\MSSQL\\DATA\\DB1.mdf',  \r\n",
                "    SIZE = 10,  \r\n",
                "    MAXSIZE = 50,  \r\n",
                "    FILEGROWTH = 5 )  \r\n",
                "LOG ON  \r\n",
                "( NAME = DB1_log,  \r\n",
                "    FILENAME = 'C:\\Program Files\\Microsoft SQL Server\\MSSQL14.MSSQLSERVER\\MSSQL\\DATA\\DB1log.ldf',  \r\n",
                "    SIZE = 5MB,  \r\n",
                "    MAXSIZE = 25MB,  \r\n",
                "    FILEGROWTH = 5MB ) ;  \r\n",
                "go"
            ],
            "metadata": {
                "azdata_cell_guid": "43a680dd-b177-4461-929a-704fed83b72e"
            },
            "outputs": [
                {
                    "output_type": "error",
                    "ename": "",
                    "evalue": "Msg 1801, Level 16, State 3, Line 1\r\nDatabase 'DB1' already exists. Choose a different database name.",
                    "traceback": []
                },
                {
                    "output_type": "display_data",
                    "data": {
                        "text/html": "Total execution time: 00:00:00.004"
                    },
                    "metadata": {}
                }
            ],
            "execution_count": 4
        },
        {
            "cell_type": "markdown",
            "source": [
                "Also we can just create dabase with a name and all other settings are going to be default"
            ],
            "metadata": {
                "azdata_cell_guid": "428ffafb-ec10-4e8d-879a-7043cb8719d9"
            }
        },
        {
            "cell_type": "code",
            "source": [
                "Create Database DB2;\r\n",
                "go"
            ],
            "metadata": {
                "azdata_cell_guid": "98e4c234-ee2f-4982-a671-52d572fbbfe4"
            },
            "outputs": [],
            "execution_count": 0
        },
        {
            "cell_type": "markdown",
            "source": [
                "To find out what is current database we can use following code"
            ],
            "metadata": {
                "azdata_cell_guid": "bd408181-8e36-4078-90bd-dce9c316bc30"
            }
        },
        {
            "cell_type": "code",
            "source": [
                "Select DB_NAME();\r\n",
                "GO\r\n",
                "\r\n",
                "use DB1;\r\n",
                "GO\r\n",
                "\r\n",
                "Select DB_NAME();\r\n",
                "GO"
            ],
            "metadata": {
                "azdata_cell_guid": "b95dbf62-dc2f-4c88-97ae-e88a360851c5"
            },
            "outputs": [
                {
                    "output_type": "display_data",
                    "data": {
                        "text/html": "(1 row affected)"
                    },
                    "metadata": {}
                },
                {
                    "output_type": "display_data",
                    "data": {
                        "text/html": "Commands completed successfully."
                    },
                    "metadata": {}
                },
                {
                    "output_type": "display_data",
                    "data": {
                        "text/html": "(1 row affected)"
                    },
                    "metadata": {}
                },
                {
                    "output_type": "execute_result",
                    "execution_count": 2,
                    "data": {
                        "application/vnd.dataresource+json": {
                            "schema": {
                                "fields": [
                                    {
                                        "name": "(No column name)"
                                    }
                                ]
                            },
                            "data": [
                                {
                                    "0": "master"
                                }
                            ]
                        },
                        "text/html": "<table><tr><th>(No column name)</th></tr><tr><td>master</td></tr></table>"
                    },
                    "metadata": {}
                },
                {
                    "output_type": "display_data",
                    "data": {
                        "text/html": "Total execution time: 00:00:00.020"
                    },
                    "metadata": {}
                },
                {
                    "output_type": "execute_result",
                    "execution_count": 2,
                    "data": {
                        "application/vnd.dataresource+json": {
                            "schema": {
                                "fields": [
                                    {
                                        "name": "(No column name)"
                                    }
                                ]
                            },
                            "data": [
                                {
                                    "0": "DB1"
                                }
                            ]
                        },
                        "text/html": "<table><tr><th>(No column name)</th></tr><tr><td>DB1</td></tr></table>"
                    },
                    "metadata": {}
                }
            ],
            "execution_count": 2
        },
        {
            "cell_type": "markdown",
            "source": [
                "## Delete Database\r\n",
                "To delet a database you can use Drop database code\r\n",
                "* If you droped database DB2, Please recreate it, we gonna need it very soon."
            ],
            "metadata": {
                "azdata_cell_guid": "8b71ddcb-0ad3-421a-8238-df3401520c21"
            }
        },
        {
            "cell_type": "code",
            "source": [
                "Drop DATABASE DB2;\r\n",
                "GO"
            ],
            "metadata": {
                "azdata_cell_guid": "63026eda-ab22-4cf7-9e62-1254fa34e0a2"
            },
            "outputs": [],
            "execution_count": 0
        }
    ]
}