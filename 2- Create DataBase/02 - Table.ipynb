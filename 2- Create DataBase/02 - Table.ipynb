{
    "metadata": {
        "kernelspec": {
            "name": "SQL",
            "display_name": "SQL",
            "language": "sql"
        },
        "language_info": {
            "name": "sql",
            "version": ""
        }
    },
    "nbformat_minor": 2,
    "nbformat": 4,
    "cells": [
        {
            "cell_type": "markdown",
            "source": [
                "# Schema\r\n",
                "For the security goals, we put all the objects include\r\n",
                "-\tTable,\r\n",
                "-\tView,\r\n",
                "-\t…\r\n",
                "-\tuser\r\n",
                "\r\n",
                "in to different groups and users have access (is aware or can see) the objects of the group that itself belong to, and like that the user has no idea about the other data that is not related to.\r\n",
                "\r\n",
                "In SQL Server, by default we have a schema witch is **dbo** (Database owner) which has admin level of access.\r\n",
                ""
            ],
            "metadata": {
                "azdata_cell_guid": "900ed8c5-acca-43c3-8f5b-089a5ce30e77"
            }
        },
        {
            "cell_type": "code",
            "source": [
                "use DB1;\r\n",
                "GO"
            ],
            "metadata": {
                "azdata_cell_guid": "893280ce-9bd8-484f-a6bb-d6b43ccbe25c"
            },
            "outputs": [
                {
                    "output_type": "display_data",
                    "data": {
                        "text/html": "Commands completed successfully."
                    },
                    "metadata": {}
                },
                {
                    "output_type": "display_data",
                    "data": {
                        "text/html": "Total execution time: 00:00:00.001"
                    },
                    "metadata": {}
                }
            ],
            "execution_count": 2
        },
        {
            "cell_type": "code",
            "source": [
                "CREATE SCHEMA hr;\r\n",
                "GO"
            ],
            "metadata": {
                "azdata_cell_guid": "af9e0a8d-92e3-45a8-8c71-e2cc6074f30d"
            },
            "outputs": [
                {
                    "output_type": "display_data",
                    "data": {
                        "text/html": "Commands completed successfully."
                    },
                    "metadata": {}
                },
                {
                    "output_type": "display_data",
                    "data": {
                        "text/html": "Total execution time: 00:00:00.032"
                    },
                    "metadata": {}
                }
            ],
            "execution_count": 3
        },
        {
            "cell_type": "markdown",
            "source": [
                "# Create Table\r\n",
                "When we create a table if we do not mention the schema, the table going to created under schema default witch is dbo.\r\n",
                "In the basic level every table has \r\n",
                "- schema\r\n",
                "- name\r\n",
                "- set of fields\r\n",
                "and every field has data type\r\n",
                "\r\n",
                "Now we create two tables, \r\n",
                "* first is personal (Pid, Pname) belong to ***hr*** schema \r\n",
                "* second is Departement (Pid, Dname)"
            ],
            "metadata": {
                "azdata_cell_guid": "3f104910-081f-48ec-9dd3-b1b4103ef49a"
            }
        },
        {
            "cell_type": "code",
            "source": [
                "Create Table hr.Personal(\r\n",
                "    Pid int,\r\n",
                "    Pname nvarchar(50)\r\n",
                ");\r\n",
                "GO\r\n",
                "\r\n",
                "Create Table Departement(\r\n",
                "    Did smallint,\r\n",
                "    Dname nvarchar(50)\r\n",
                ")"
            ],
            "metadata": {
                "azdata_cell_guid": "47e1f168-c2d1-454f-bdc1-f2284d6f4866"
            },
            "outputs": [
                {
                    "output_type": "display_data",
                    "data": {
                        "text/html": "Commands completed successfully."
                    },
                    "metadata": {}
                },
                {
                    "output_type": "display_data",
                    "data": {
                        "text/html": "Commands completed successfully."
                    },
                    "metadata": {}
                },
                {
                    "output_type": "display_data",
                    "data": {
                        "text/html": "Total execution time: 00:00:00.065"
                    },
                    "metadata": {}
                }
            ],
            "execution_count": 4
        },
        {
            "cell_type": "markdown",
            "source": [
                "### Important\r\n",
                "\r\n",
                "* Name of every object is unique, that means if I try to create another table with name **Departement** SQL Server would not accept it\r\n",
                "* Table name is not the compelete name of a table, complete name of a table is like\r\n",
                "        Database_name.Schema_Name.Table_Name\r\n",
                "* Same as compelete name of field is\r\n",
                "        Database_name.Schema_Name.Table_Name.Field_Name\r\n",
                "Then we can have two table with same table_name in two different schema\r\n",
                "Also this is a method to do some operation in a database from outside of database. "
            ],
            "metadata": {
                "azdata_cell_guid": "7cc56083-0063-4a36-b3a3-c6a55fcad5ef"
            }
        },
        {
            "cell_type": "code",
            "source": [
                "select 'Current Database is ' + DB_NAME();\r\n",
                "GO \r\n",
                "\r\n",
                "Create Table DB2.dbo.Course(\r\n",
                "    CCode smallint primary KEY,\r\n",
                "    CName nvarchar(20) not null,\r\n",
                "    CUnit tinyint default(3) not null,\r\n",
                ");\r\n",
                "GO\r\n",
                "\r\n",
                "Select * From DB2.dbo.Course;\r\n",
                "GO"
            ],
            "metadata": {
                "azdata_cell_guid": "708d2cc7-2cd4-409e-81cd-29af1de3fccc"
            },
            "outputs": [
                {
                    "output_type": "display_data",
                    "data": {
                        "text/html": "(1 row affected)"
                    },
                    "metadata": {}
                },
                {
                    "output_type": "execute_result",
                    "metadata": {},
                    "execution_count": 5,
                    "data": {
                        "application/vnd.dataresource+json": {
                            "schema": {
                                "fields": [
                                    {
                                        "name": "(No column name)"
                                    }
                                ]
                            },
                            "data": [
                                {
                                    "0": "Current Database is DB1"
                                }
                            ]
                        },
                        "text/html": "<table><tr><th>(No column name)</th></tr><tr><td>Current Database is DB1</td></tr></table>"
                    }
                },
                {
                    "output_type": "display_data",
                    "data": {
                        "text/html": "Commands completed successfully."
                    },
                    "metadata": {}
                },
                {
                    "output_type": "display_data",
                    "data": {
                        "text/html": "(0 rows affected)"
                    },
                    "metadata": {}
                },
                {
                    "output_type": "display_data",
                    "data": {
                        "text/html": "Total execution time: 00:00:00.086"
                    },
                    "metadata": {}
                },
                {
                    "output_type": "execute_result",
                    "metadata": {},
                    "execution_count": 5,
                    "data": {
                        "application/vnd.dataresource+json": {
                            "schema": {
                                "fields": [
                                    {
                                        "name": "CCode"
                                    },
                                    {
                                        "name": "CName"
                                    },
                                    {
                                        "name": "CUnit"
                                    }
                                ]
                            },
                            "data": []
                        },
                        "text/html": "<table><tr><th>CCode</th><th>CName</th><th>CUnit</th></tr></table>"
                    }
                }
            ],
            "execution_count": 5
        },
        {
            "cell_type": "markdown",
            "source": [
                "To avoid the error we can check before creating table to make decision what to do"
            ],
            "metadata": {
                "azdata_cell_guid": "eaf28adc-e057-4a1f-9094-150879b18c92"
            }
        },
        {
            "cell_type": "code",
            "source": [
                "IF NOT EXISTS (SELECT * FROM sysobjects WHERE name='Course' and xtype='U')\r\n",
                "    create table tbl (\r\n",
                "        [Name] varchar(64) not null\r\n",
                "    )\r\n",
                "go"
            ],
            "metadata": {
                "azdata_cell_guid": "6212f354-3fdd-4333-a042-61d0c31066d5"
            },
            "outputs": [],
            "execution_count": 0
        },
        {
            "cell_type": "markdown",
            "source": [
                "# Constraints\r\n",
                "Constraints are some rulls that tables (data in table) should respect.\r\n",
                "\r\n",
                "* Not null          -> if a field could accept null value of not, defaulf is yes.\r\n",
                "* Unique            -> if values of a field should stay unique.\r\n",
                "* Primary key       -> if field(s) is unique and sorted physically to use as an identifier of records.\r\n",
                "* Foreign key       -> shows that a field is primary key in another table, \r\n",
                "                1- just accept values in table where field is primary key\r\n",
                "                2- we can not delete record in primary key table if we used that value as foriegn key. \r\n",
                "* Check             -> value of field should respect a condition\r\n",
                "* Default           -> if no value is asigned in insert code, default value will be insert in the that field\r\n",
                "* Index             -> force database to keep another structured data, sorted by this field to increase the speed of query.\r\n",
                ""
            ],
            "metadata": {
                "azdata_cell_guid": "d1c644bb-4eab-4b9c-b210-675503cd0a89"
            }
        },
        {
            "cell_type": "code",
            "source": [
                "Create Table VehicleType(\r\n",
                "    VTCode  int,\r\n",
                "    VTName nvarchar(50),\r\n",
                "-- primary key with name\r\n",
                "    CONSTRAINT PK_VehicleType PRIMARY KEY (VTCode)\r\n",
                ");\r\n",
                "GO"
            ],
            "metadata": {
                "azdata_cell_guid": "d09c6053-a5c1-47b3-a445-50fd68335f64"
            },
            "outputs": [
                {
                    "output_type": "display_data",
                    "data": {
                        "text/html": "Commands completed successfully."
                    },
                    "metadata": {}
                },
                {
                    "output_type": "display_data",
                    "data": {
                        "text/html": "Total execution time: 00:00:00.003"
                    },
                    "metadata": {}
                }
            ],
            "execution_count": 9
        },
        {
            "cell_type": "code",
            "source": [
                "Create Table Vehicle(\r\n",
                "    VCode SMALLINT NOT NULL PRIMARY KEY,\r\n",
                "    VLicensePlate NVARCHAR(20),\r\n",
                "    VModel NVARCHAR(20) NULL,\r\n",
                "    VType  INT NOT NULL,\r\n",
                "    VYear INT Default(2000),\r\n",
                "    CHECK(Len(VLicensePlate) > 4),\r\n",
                "    CONSTRAINT FK_VehicleType_Vehicle FOREIGN KEY (VType)\r\n",
                "        REFERENCES vehicleType (VTCode)\r\n",
                "        ON DELETE CASCADE\r\n",
                "        ON UPDATE CASCADE\r\n",
                ");\r\n",
                "GO"
            ],
            "metadata": {
                "azdata_cell_guid": "afecc39f-8ab8-479f-af86-372d4ecffba6"
            },
            "outputs": [
                {
                    "output_type": "display_data",
                    "data": {
                        "text/html": "Commands completed successfully."
                    },
                    "metadata": {}
                },
                {
                    "output_type": "display_data",
                    "data": {
                        "text/html": "Total execution time: 00:00:00.005"
                    },
                    "metadata": {}
                }
            ],
            "execution_count": 10
        },
        {
            "cell_type": "markdown",
            "source": [
                "## Identity\r\n",
                "You can create or alter a table and add field with auto increasing value. \r\n",
                "            \r\n",
                "    IDENTITY (seed , increment) \r\n",
                "* when we have field **Identity** we do not insert data in it, value will be automatically generated."
            ],
            "metadata": {
                "azdata_cell_guid": "72ede941-907f-4005-b621-5a2319e9b8fd"
            }
        },
        {
            "cell_type": "markdown",
            "source": [
                "## Change Table structure\r\n",
                "To change table structure we need to alter table then we can alter column or simple add or drop field field\r\n",
                "\r\n",
                "            Alter Table Table Name\r\n",
                "                ADD Column_Name Data_Type {identity}\r\n",
                "                |\r\n",
                "                Alter Column Column_Name Data_Type\r\n",
                "                |\r\n",
                "                Drop Column Column_Name"
            ],
            "metadata": {
                "azdata_cell_guid": "f6d2ea62-6600-4943-adeb-2be430d780f5"
            }
        },
        {
            "cell_type": "code",
            "source": [
                "ALTER TABLE VehicleType\r\n",
                "    ADD idtty INT IDENTITY(1,1) not NULL;\r\n",
                "\r\n",
                "ALTER TABLE VehicleType\r\n",
                "    ALTER COLUMN idtty SMALLINT;\r\n",
                "GO\r\n",
                "    \r\n",
                "ALTER TABLE VehicleType\r\n",
                "    DROP COLUMN idtty\r\n",
                "GO"
            ],
            "metadata": {
                "azdata_cell_guid": "145fb6c2-8b78-4eea-b484-4456785a3363"
            },
            "outputs": [
                {
                    "output_type": "display_data",
                    "data": {
                        "text/html": "Commands completed successfully."
                    },
                    "metadata": {}
                },
                {
                    "output_type": "display_data",
                    "data": {
                        "text/html": "Total execution time: 00:00:00.074"
                    },
                    "metadata": {}
                }
            ],
            "execution_count": 12
        },
        {
            "cell_type": "markdown",
            "source": [
                "## Drop Table\r\n",
                "to drop table we use following code.\r\n",
                "\r\n",
                "* if you drop a table, data will be lost.\r\n",
                "* it is important to take a backup before changing big change in structure of database. "
            ],
            "metadata": {
                "azdata_cell_guid": "ff18ef5e-17db-49b8-8051-6e746781be27"
            }
        },
        {
            "cell_type": "code",
            "source": [
                "DROP TABLE VehicleType;\r\n",
                "GO"
            ],
            "metadata": {
                "azdata_cell_guid": "af55c609-1d3e-4eb7-b74f-27b106b853f9"
            },
            "outputs": [],
            "execution_count": 0
        }
    ]
}